{
 "cells": [
  {
   "cell_type": "code",
   "execution_count": 1,
   "metadata": {},
   "outputs": [],
   "source": [
    "import pandas as pd"
   ]
  },
  {
   "cell_type": "code",
   "execution_count": 2,
   "metadata": {},
   "outputs": [],
   "source": [
    "data = pd.read_csv('US_nn.csv')"
   ]
  },
  {
   "cell_type": "code",
   "execution_count": 3,
   "metadata": {},
   "outputs": [],
   "source": [
    "mean = data['profit'].mean()\n",
    "std = data['profit'].std()\n",
    "poor_threshold = mean-0.5*std\n",
    "fine_threshold = mean-0.35*std\n",
    "good_threshold = mean \n",
    "excellent_threshold = mean + 0.5*std\n",
    "A24_mean = data[data['is_A24'] == 1]['profit'].mean()\n",
    "A24_std = data[data['is_A24'] == 1]['profit'].std()\n",
    "A24_poor_threshold = A24_mean-0.5*A24_std\n",
    "A24_fine_threshold = A24_mean-0.35*A24_std\n",
    "A24_good_threshold = A24_mean\n",
    "A24_excellent_threshold = A24_mean + 0.5*A24_std \n",
    " \n",
    "def is_bad(row):\n",
    "    if row['is_A24'] == 1:\n",
    "        if row['profit'] < A24_poor_threshold:\n",
    "            return 1\n",
    "        else:\n",
    "            return 0\n",
    "    else:\n",
    "        if row['profit'] < poor_threshold:\n",
    "            return 1\n",
    "        else:\n",
    "            return 0\n",
    "    \n",
    "def is_poor(row):\n",
    "    if row['is_A24'] == 1:\n",
    "        if row['profit'] >= A24_poor_threshold and row['profit'] < A24_fine_threshold:\n",
    "            return 1\n",
    "        else:\n",
    "            return 0\n",
    "    else:\n",
    "        if row['profit'] >= poor_threshold and row['profit'] < fine_threshold:\n",
    "            return 1\n",
    "        else:\n",
    "            return 0\n",
    "\n",
    "def is_fine(row):\n",
    "    if row['is_A24'] == 1:\n",
    "        if row['profit'] >= A24_fine_threshold and row['profit'] < A24_good_threshold:\n",
    "            return 1\n",
    "        else:\n",
    "            return 0\n",
    "    else:\n",
    "        if row['profit'] >= fine_threshold and row['profit'] < good_threshold:\n",
    "            return 1\n",
    "        else:\n",
    "            return 0\n",
    "\n",
    "def is_good(row):\n",
    "    if row['is_A24'] == 1:\n",
    "        if row['profit'] >= A24_good_threshold and row['profit'] < A24_excellent_threshold:\n",
    "            return 1\n",
    "        else:\n",
    "            return 0\n",
    "    else:\n",
    "        if row['profit'] >= good_threshold and row['profit'] < excellent_threshold:\n",
    "            return 1\n",
    "        else:\n",
    "            return 0\n",
    "        \n",
    "def is_excellent(row):\n",
    "    if row['is_A24'] == 1:\n",
    "        if row['profit'] >= A24_excellent_threshold:\n",
    "            return 1\n",
    "        else:\n",
    "            return 0\n",
    "    else:\n",
    "        if row['profit'] >= excellent_threshold:\n",
    "            return 1\n",
    "        else:\n",
    "            return 0\n"
   ]
  },
  {
   "cell_type": "code",
   "execution_count": 4,
   "metadata": {},
   "outputs": [
    {
     "name": "stdout",
     "output_type": "stream",
     "text": [
      "is_bad\n",
      "0    0.9\n",
      "1    0.1\n",
      "Name: proportion, dtype: float64\n",
      "is_poor\n",
      "0    0.723333\n",
      "1    0.276667\n",
      "Name: proportion, dtype: float64\n",
      "is_fine\n",
      "0    0.62\n",
      "1    0.38\n",
      "Name: proportion, dtype: float64\n",
      "is_good\n",
      "0    0.886667\n",
      "1    0.113333\n",
      "Name: proportion, dtype: float64\n",
      "is_excellent\n",
      "0    0.87\n",
      "1    0.13\n",
      "Name: proportion, dtype: float64\n"
     ]
    }
   ],
   "source": [
    "data['is_poor'] = pd.NA\n",
    "data['is_fine'] = pd.NA\n",
    "data['is_good'] = pd.NA\n",
    "data['is_excellent'] = pd.NA\n",
    "data['is_bad'] = pd.NA\n",
    "data['is_bad'] = data.apply(is_bad, axis=1)\n",
    "data['is_poor'] = data.apply(is_poor, axis=1)\n",
    "data['is_fine'] = data.apply(is_fine, axis=1)\n",
    "data['is_good'] = data.apply(is_good, axis=1)\n",
    "data['is_excellent'] = data.apply(is_excellent, axis=1)\n",
    "#Show the percentage of each category\n",
    "print(data['is_bad'].value_counts(normalize=True))\n",
    "print(data['is_poor'].value_counts(normalize=True))\n",
    "print(data['is_fine'].value_counts(normalize=True))\n",
    "print(data['is_good'].value_counts(normalize=True))\n",
    "print(data['is_excellent'].value_counts(normalize=True))\n"
   ]
  },
  {
   "cell_type": "code",
   "execution_count": 5,
   "metadata": {},
   "outputs": [],
   "source": [
    "import pandas as pd\n",
    "data.drop(['movie', 'synopsis', 'taglines'], axis=1, inplace=True)\n",
    "#Move the last 4 column to the 1:5 position\n",
    "# Assuming df is your DataFrame\n",
    "data = data[ ['profit','is_bad', 'is_poor', 'is_fine', 'is_good', 'is_excellent'] + [ col for col in data.columns if col not in ['profit','is_bad', 'is_poor', 'is_fine', 'is_good', 'is_excellent'] ] ]\n",
    "data.to_csv('US_nn_plus.csv', index=False)"
   ]
  }
 ],
 "metadata": {
  "kernelspec": {
   "display_name": "project2",
   "language": "python",
   "name": "python3"
  },
  "language_info": {
   "codemirror_mode": {
    "name": "ipython",
    "version": 3
   },
   "file_extension": ".py",
   "mimetype": "text/x-python",
   "name": "python",
   "nbconvert_exporter": "python",
   "pygments_lexer": "ipython3",
   "version": "3.11.4"
  }
 },
 "nbformat": 4,
 "nbformat_minor": 2
}
